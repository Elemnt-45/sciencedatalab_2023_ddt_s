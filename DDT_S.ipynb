{
  "nbformat": 4,
  "nbformat_minor": 0,
  "metadata": {
    "colab": {
      "provenance": []
    },
    "kernelspec": {
      "name": "python3",
      "display_name": "Python 3"
    },
    "language_info": {
      "name": "python"
    }
  },
  "cells": [
    {
      "cell_type": "code",
      "execution_count": 1,
      "metadata": {
        "id": "czw5UFshn_Qu"
      },
      "outputs": [],
      "source": [
        "import pandas as pd\n",
        "import sklearn\n",
        "from sklearn import tree\n",
        "import seaborn as sns\n",
        "import matplotlib\n",
        "import numpy as np\n",
        "import matplotlib.pyplot as plt\n",
        "from sklearn.model_selection import train_test_split\n",
        "from sklearn.ensemble import RandomForestClassifier\n",
        "from sklearn.preprocessing import OneHotEncoder\n",
        "from sklearn.model_selection import GridSearchCV\n",
        "from sklearn.tree import DecisionTreeClassifier\n",
        "import keras\n",
        "import tensorflow as tf\n",
        "from sklearn.metrics import classification_report, accuracy_score, f1_score\n",
        "\n",
        "%matplotlib inline"
      ]
    },
    {
      "cell_type": "code",
      "source": [
        "# Загрузили датасет\n",
        "df = pd.read_csv('dataset.csv')\n",
        "\n",
        "# Удалили лишний индексный столбец\n",
        "df = df.drop(columns=['n'])\n",
        "\n",
        "# Объединил травы\n",
        "df.loc[ df['Culture']=='травы многолетние', 'Culture'] = 'многолетние травы'\n",
        "\n",
        "# заменил скачки и наны средними по культуре\n",
        "mask = (df[['121', '128', '135', '142']] > 0.5)\n",
        "df[mask] = np.nan\n",
        "df_filled = df.groupby('Culture').transform(lambda x: x.fillna(x.mean()))\n",
        "df_filled['Culture'] = df['Culture']\n",
        "\n",
        "# если всё хорошо, меняем основной датасет\n",
        "df = df_filled"
      ],
      "metadata": {
        "id": "706Cv0SqoC9k"
      },
      "execution_count": 3,
      "outputs": []
    },
    {
      "cell_type": "code",
      "source": [
        "X = df.drop(['Culture'], axis=1)\n",
        "# axis=1 означает что мы передаём не индексы, а колонки\n",
        "\n",
        "onehotencoder = OneHotEncoder()\n",
        "y = pd.DataFrame(onehotencoder.fit_transform(df[['Culture']]).toarray(), columns=onehotencoder.get_feature_names_out(['Culture']))"
      ],
      "metadata": {
        "id": "3eur-1t_oF_b"
      },
      "execution_count": 4,
      "outputs": []
    },
    {
      "cell_type": "code",
      "source": [
        "# разбили X и y на тренировочные и тестовые части\n",
        "X_train, X_test, y_train, y_test = train_test_split(X, y, test_size = 0.05, random_state = 25)"
      ],
      "metadata": {
        "id": "OoPZJ7X7oQaz"
      },
      "execution_count": 5,
      "outputs": []
    },
    {
      "cell_type": "code",
      "source": [
        "csvn = 500"
      ],
      "metadata": {
        "id": "xonlqzgKoXH9"
      },
      "execution_count": 8,
      "outputs": []
    },
    {
      "cell_type": "code",
      "source": [
        "model = keras.Sequential(\n",
        "    [\n",
        "        keras.layers.Dense(128, activation='LeakyReLU'),\n",
        "        keras.layers.Normalization(),\n",
        "        keras.layers.Dense(512, activation='LeakyReLU'),\n",
        "        keras.layers.Dropout(0.5),\n",
        "        keras.layers.Dense(256, activation='LeakyReLU'),\n",
        "        keras.layers.Dropout(0.5),\n",
        "        keras.layers.Dense(32, activation='LeakyReLU'),\n",
        "        keras.layers.Dense(12),\n",
        "        keras.layers.Dense(12, activation='softmax')\n",
        "    ]\n",
        "\n",
        ")\n",
        "model.compile(keras.optimizers.Adagrad(learning_rate=0.015), loss='categorical_crossentropy', metrics=['categorical_accuracy'])"
      ],
      "metadata": {
        "id": "nBPFPerGoZMm"
      },
      "execution_count": 17,
      "outputs": []
    },
    {
      "cell_type": "code",
      "source": [
        "model.fit(x=X_train, y=y_train, epochs=50)\n",
        "'''X_test_private = pd.read_csv('private_dataset.csv')\n",
        "X_test_private.drop(X_test_private.columns[0], axis=1, inplace=True)\n",
        "y_pred = pd.DataFrame(model.predict(X_test_private))\n",
        "y_pred = onehotencoder.inverse_transform(y_pred)\n",
        "#pd.DataFrame(onehotencoder.inverse_transform(y_pred)).to_csv(('answer'+str(csvn)+'.csv'),index=False) '''\n",
        "csvn += 1"
      ],
      "metadata": {
        "colab": {
          "base_uri": "https://localhost:8080/"
        },
        "id": "ud4skdUaoeVm",
        "outputId": "e1a3b7dd-9f0a-4d77-c803-520e1f01fa35"
      },
      "execution_count": 22,
      "outputs": [
        {
          "output_type": "stream",
          "name": "stdout",
          "text": [
            "Epoch 1/50\n",
            "355/355 [==============================] - 3s 7ms/step - loss: 0.4168 - categorical_accuracy: 0.8592\n",
            "Epoch 2/50\n",
            "355/355 [==============================] - 3s 8ms/step - loss: 0.4126 - categorical_accuracy: 0.8605\n",
            "Epoch 3/50\n",
            "355/355 [==============================] - 3s 9ms/step - loss: 0.4143 - categorical_accuracy: 0.8619\n",
            "Epoch 4/50\n",
            "355/355 [==============================] - 3s 9ms/step - loss: 0.4127 - categorical_accuracy: 0.8604\n",
            "Epoch 5/50\n",
            "355/355 [==============================] - 3s 7ms/step - loss: 0.4088 - categorical_accuracy: 0.8647\n",
            "Epoch 6/50\n",
            "355/355 [==============================] - 3s 7ms/step - loss: 0.4103 - categorical_accuracy: 0.8653\n",
            "Epoch 7/50\n",
            "355/355 [==============================] - 3s 8ms/step - loss: 0.4071 - categorical_accuracy: 0.8641\n",
            "Epoch 8/50\n",
            "355/355 [==============================] - 4s 10ms/step - loss: 0.4085 - categorical_accuracy: 0.8602\n",
            "Epoch 9/50\n",
            "355/355 [==============================] - 3s 7ms/step - loss: 0.4042 - categorical_accuracy: 0.8633\n",
            "Epoch 10/50\n",
            "355/355 [==============================] - 3s 8ms/step - loss: 0.4072 - categorical_accuracy: 0.8610\n",
            "Epoch 11/50\n",
            "355/355 [==============================] - 3s 8ms/step - loss: 0.4038 - categorical_accuracy: 0.8663\n",
            "Epoch 12/50\n",
            "355/355 [==============================] - 3s 10ms/step - loss: 0.4057 - categorical_accuracy: 0.8623\n",
            "Epoch 13/50\n",
            "355/355 [==============================] - 3s 8ms/step - loss: 0.4073 - categorical_accuracy: 0.8650\n",
            "Epoch 14/50\n",
            "355/355 [==============================] - 3s 9ms/step - loss: 0.3990 - categorical_accuracy: 0.8658\n",
            "Epoch 15/50\n",
            "355/355 [==============================] - 4s 12ms/step - loss: 0.4089 - categorical_accuracy: 0.8633\n",
            "Epoch 16/50\n",
            "355/355 [==============================] - 4s 10ms/step - loss: 0.4069 - categorical_accuracy: 0.8644\n",
            "Epoch 17/50\n",
            "355/355 [==============================] - 3s 8ms/step - loss: 0.4049 - categorical_accuracy: 0.8641\n",
            "Epoch 18/50\n",
            "355/355 [==============================] - 3s 8ms/step - loss: 0.4037 - categorical_accuracy: 0.8646\n",
            "Epoch 19/50\n",
            "355/355 [==============================] - 3s 8ms/step - loss: 0.4011 - categorical_accuracy: 0.8671\n",
            "Epoch 20/50\n",
            "355/355 [==============================] - 5s 15ms/step - loss: 0.4016 - categorical_accuracy: 0.8648\n",
            "Epoch 21/50\n",
            "355/355 [==============================] - 4s 10ms/step - loss: 0.4008 - categorical_accuracy: 0.8655\n",
            "Epoch 22/50\n",
            "355/355 [==============================] - 3s 10ms/step - loss: 0.3975 - categorical_accuracy: 0.8674\n",
            "Epoch 23/50\n",
            "355/355 [==============================] - 6s 17ms/step - loss: 0.4005 - categorical_accuracy: 0.8649\n",
            "Epoch 24/50\n",
            "355/355 [==============================] - 4s 11ms/step - loss: 0.3985 - categorical_accuracy: 0.8651\n",
            "Epoch 25/50\n",
            "355/355 [==============================] - 4s 12ms/step - loss: 0.3985 - categorical_accuracy: 0.8661\n",
            "Epoch 26/50\n",
            "355/355 [==============================] - 5s 13ms/step - loss: 0.4008 - categorical_accuracy: 0.8656\n",
            "Epoch 27/50\n",
            "355/355 [==============================] - 3s 9ms/step - loss: 0.3962 - categorical_accuracy: 0.8671\n",
            "Epoch 28/50\n",
            "355/355 [==============================] - 4s 12ms/step - loss: 0.4003 - categorical_accuracy: 0.8663\n",
            "Epoch 29/50\n",
            "355/355 [==============================] - 3s 8ms/step - loss: 0.3977 - categorical_accuracy: 0.8657\n",
            "Epoch 30/50\n",
            "355/355 [==============================] - 3s 10ms/step - loss: 0.3940 - categorical_accuracy: 0.8661\n",
            "Epoch 31/50\n",
            "355/355 [==============================] - 3s 8ms/step - loss: 0.3899 - categorical_accuracy: 0.8685\n",
            "Epoch 32/50\n",
            "355/355 [==============================] - 3s 8ms/step - loss: 0.4017 - categorical_accuracy: 0.8642\n",
            "Epoch 33/50\n",
            "355/355 [==============================] - 3s 8ms/step - loss: 0.3979 - categorical_accuracy: 0.8674\n",
            "Epoch 34/50\n",
            "355/355 [==============================] - 3s 9ms/step - loss: 0.3939 - categorical_accuracy: 0.8682\n",
            "Epoch 35/50\n",
            "355/355 [==============================] - 3s 9ms/step - loss: 0.3958 - categorical_accuracy: 0.8663\n",
            "Epoch 36/50\n",
            "355/355 [==============================] - 3s 7ms/step - loss: 0.3917 - categorical_accuracy: 0.8712\n",
            "Epoch 37/50\n",
            "355/355 [==============================] - 3s 8ms/step - loss: 0.3944 - categorical_accuracy: 0.8673\n",
            "Epoch 38/50\n",
            "355/355 [==============================] - 3s 8ms/step - loss: 0.3922 - categorical_accuracy: 0.8666\n",
            "Epoch 39/50\n",
            "355/355 [==============================] - 4s 11ms/step - loss: 0.3888 - categorical_accuracy: 0.8698\n",
            "Epoch 40/50\n",
            "355/355 [==============================] - 3s 8ms/step - loss: 0.3902 - categorical_accuracy: 0.8695\n",
            "Epoch 41/50\n",
            "355/355 [==============================] - 3s 8ms/step - loss: 0.3945 - categorical_accuracy: 0.8672\n",
            "Epoch 42/50\n",
            "355/355 [==============================] - 3s 9ms/step - loss: 0.3854 - categorical_accuracy: 0.8698\n",
            "Epoch 43/50\n",
            "355/355 [==============================] - 4s 11ms/step - loss: 0.3912 - categorical_accuracy: 0.8670\n",
            "Epoch 44/50\n",
            "355/355 [==============================] - 3s 8ms/step - loss: 0.3847 - categorical_accuracy: 0.8677\n",
            "Epoch 45/50\n",
            "355/355 [==============================] - 3s 8ms/step - loss: 0.3899 - categorical_accuracy: 0.8677\n",
            "Epoch 46/50\n",
            "355/355 [==============================] - 3s 8ms/step - loss: 0.3850 - categorical_accuracy: 0.8690\n",
            "Epoch 47/50\n",
            "355/355 [==============================] - 3s 9ms/step - loss: 0.3892 - categorical_accuracy: 0.8676\n",
            "Epoch 48/50\n",
            "355/355 [==============================] - 3s 10ms/step - loss: 0.3894 - categorical_accuracy: 0.8715\n",
            "Epoch 49/50\n",
            "355/355 [==============================] - 3s 8ms/step - loss: 0.3815 - categorical_accuracy: 0.8718\n",
            "Epoch 50/50\n",
            "355/355 [==============================] - 3s 7ms/step - loss: 0.3839 - categorical_accuracy: 0.8671\n",
            "12/12 [==============================] - 0s 15ms/step\n"
          ]
        }
      ]
    },
    {
      "cell_type": "code",
      "source": [
        "import pickle\n",
        "\n",
        "filename = 'DDTSmodel2.pkl'\n",
        "pickle.dump(model, open(filename, 'wb'))"
      ],
      "metadata": {
        "id": "K67ZFKhdrRgg"
      },
      "execution_count": 16,
      "outputs": []
    },
    {
      "cell_type": "code",
      "source": [
        "X_test_private = pd.read_csv('private_dataset.csv')\n",
        "X_test_private.drop(X_test_private.columns[0], axis=1, inplace=True)\n",
        "y_pred = pd.DataFrame(model.predict(X_test_private))\n",
        "#y_pred = onehotencoder.inverse_transform(y_pred)\n",
        "pd.DataFrame(onehotencoder.inverse_transform(y_pred)).to_csv('test_answer1.csv',index=False) # ОТВЕТ НЕЙРОСЕТИ\n",
        "culture_df = pd.read_csv('test_answer1.csv')\n",
        "\n",
        "def update_culture_based_on_sum(main_df, culture_df):\n",
        "    updated_culture_df = culture_df.copy()  # Создаем копию второго датафрейма\n",
        "\n",
        "    for index, row in main_df.iterrows():\n",
        "        # Шаг 1: Считаем сумму значений в первых пяти столбцах\n",
        "        sum_of_first_5 = row.iloc[1:6].sum()\n",
        "\n",
        "        if sum_of_first_5 > 1.6:\n",
        "            updated_culture_df.iloc[index, 0] = \"многолетние травы\"\n",
        "            print(sum_of_first_5)\n",
        "\n",
        "\n",
        "    return updated_culture_df\n",
        "\n",
        "private_df = pd.read_csv('private_dataset.csv')\n",
        "df_updated_cultures = update_culture_based_on_sum(private_df, culture_df)\n",
        "pd.DataFrame(df_updated_cultures).to_csv('finaltest1.csv',index=False) # ИТОГОВЫЙ ОТВЕТ ПОСЛЕ УЛУЧШЕНИЯ\n",
        "\n",
        "#pd.DataFrame(onehotencoder.inverse_transform(df_updated_cultures)).to_csv(('answer'+str(csvn)+'.csv'),index=False)\n"
      ],
      "metadata": {
        "colab": {
          "base_uri": "https://localhost:8080/"
        },
        "id": "ZO7qx443-P_f",
        "outputId": "4e836c22-686f-4f1b-9140-bf6d1c7b7c39"
      },
      "execution_count": 30,
      "outputs": [
        {
          "output_type": "stream",
          "name": "stdout",
          "text": [
            "12/12 [==============================] - 0s 3ms/step\n",
            "1.6633844462793599\n",
            "1.8801895351686682\n",
            "1.8048020795949213\n",
            "1.767096503594181\n",
            "1.8470886644372764\n",
            "1.883945930249141\n",
            "1.6259684106948524\n",
            "1.643139505802201\n",
            "1.7725920105955788\n",
            "1.9278480457828078\n",
            "1.9807647572368756\n",
            "1.980089539349657\n",
            "2.104422711445713\n",
            "1.9377946110369955\n",
            "2.123197982256433\n",
            "1.6828768343651157\n",
            "1.7288360269961478\n",
            "1.8077023977233049\n"
          ]
        }
      ]
    }
  ]
}